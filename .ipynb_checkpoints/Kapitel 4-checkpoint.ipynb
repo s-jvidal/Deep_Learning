{
 "cells": [
  {
   "cell_type": "markdown",
   "id": "bb850132",
   "metadata": {},
   "source": [
    "# Kapitel 4"
   ]
  },
  {
   "cell_type": "code",
   "execution_count": 7,
   "id": "b8dc2bb5",
   "metadata": {},
   "outputs": [],
   "source": [
    "# plot \n",
    "import matplotlib.pyplot as plt\n",
    "# zufallszahlen generator\n",
    "from random import choice \n",
    "# mathematische operationen\n",
    "from numpy import array,dot,zeros,random\n",
    "# damit plot angezeigt wird\n",
    "%matplotlib inline"
   ]
  },
  {
   "cell_type": "markdown",
   "id": "f018a2d1",
   "metadata": {},
   "source": [
    "## Kochrezept Perceptron\n",
    "\n",
    "1. Heavside Funktion definieren\n",
    "2. fit-Funktion mit iterationen, Trainingsdaten und Gewichten: zufällige Auswahl aus Trainingsdaten, Fehlerberechnung über Heavside Funktion, Trainging über anpassen der Gewichte\n",
    "3. main() funktion zum Zusammensetzen der Bausteine\n",
    "\n"
   ]
  },
  {
   "cell_type": "code",
   "execution_count": 8,
   "id": "73cd477b",
   "metadata": {},
   "outputs": [],
   "source": [
    "# heavside funktion als lambda funktion\n",
    "heavside = lambda x: 0 if x < 0 else 1"
   ]
  },
  {
   "cell_type": "code",
   "execution_count": 9,
   "id": "c1301737",
   "metadata": {},
   "outputs": [],
   "source": [
    "# Training\n",
    "def fit(iterations,training_data_set,w):\n",
    "    \"\"\" Lernen im Perceptron\n",
    "    \n",
    "    iterations: Ein Vorwärts- und Rückwärtslauf aller Trainingsbeispiele\n",
    "    trainings_data_set: Die Trainningsbeispiele\n",
    "    w: Die Gewichte zum Starten\n",
    "    \n",
    "    \"\"\"\n",
    "    errors = []\n",
    "    weights =  []\n",
    "    for i in range(iterations):\n",
    "        # zufällige Auswahl eines Trainingsbeispiels\n",
    "        training_data = choice(training_data_set)\n",
    "        x = training_data[0]\n",
    "        y = training_data[1]\n",
    "        # den errechneten output ermitteln: gewichtete Summe mit\n",
    "        # nachgelagerter Stufenfunktion\n",
    "        y_hat = heavside(dot(w,x))\n",
    "        # Fehler berechnen als Differenz zwischen gewünschtem und \n",
    "        # aktuellem output\n",
    "        error = y-y_hat\n",
    "        # Fehler sammeln für die Ausgabe \n",
    "        errors.append(error)\n",
    "        # Gewchte sammeln für spätere Ausgabe\n",
    "        weights.append(w)\n",
    "        # gewichtsanpassung = das lernen... x_i ist entweder 0 oder 1\n",
    "        w += error*x\n",
    "        # Rückgabe der Fehler und Gewicht\n",
    "    return errors , weights\n",
    "    \n",
    "def main():\n",
    "    \"\"\" Hauptprogramm\n",
    "    Hier werden die einzelnen Bausteine zusammengesetzt\n",
    "    \"\"\"\n",
    "    # Trainingsdaten \n",
    "    # Pro Zeile: die binären Inputdaten und die gewünschte binäre Ausgabe\n",
    "    # in einer Liste von Tupeln\n",
    "    # An der Indexposition 0 des Inputvektors ist das Bias-Neuron\n",
    "\n",
    "    training_data_set = [\n",
    "        (array([1,0,0]),0),\n",
    "        (array([1,0,1]),1),\n",
    "        (array([1,1,0]),1),\n",
    "        (array([1,1,1]),1),\n",
    "    ]\n",
    "\n",
    "    # Anfangsinit des Zufallsgenerators für Reproduzierbarkeit\n",
    "\n",
    "    random.seed(12)\n",
    "\n",
    "    # Array von Länge 3 mit 0 init\n",
    "    w = zeros(3)\n",
    "    # Die Anzahl der Durchläufe, Erfahrungswert durch Probieren\n",
    "    iterations = 30\n",
    "\n",
    "    # Trainieren mit fit()\n",
    "    # Wir sammeln die Fehler/Gewichte in jedem Schritt für die grafische Ausgabe\n",
    "    errors, weights = fit(iterations, training_data_set,w)\n",
    "\n",
    "    # den letzten Gewichtsvektor ausgeben \n",
    "    w = weights[iterations-1]\n",
    "    print(\"Gewichtsvektor am Ende des Trainings:\")\n",
    "    print(w)\n",
    "    # Auswertung nach dem Trainieren \n",
    "    print(\"Auswertung am Ende des Trainings:\")\n",
    "    for x,y in training_data_set:\n",
    "        y_hat = heavside(dot(x,w))\n",
    "        print(\"{}: {} -> {}\".format(x,y,y_hat))\n",
    "\n",
    "    # Grafik für Fehler pro Lernbeispiel\n",
    "    # Figure Nummern Start\n",
    "    fignr = 1\n",
    "    # Druckgröße in inch \n",
    "    plt.figure(fignr,figsize=(10,10))\n",
    "    # Ausgabe Fehler als Plot \n",
    "    plt.plot(errors)\n",
    "    # Raster\n",
    "    plt.style.use('seaborn-whitegrid')\n",
    "    # Labels\n",
    "    plt.xlabel('Iteration')\n",
    "    # Label der Y-Achse mithilfe von LaTex\n",
    "    plt.ylabel(r\"$(y-\\hat y)$\")\n",
    "    # Plot anzeigen\n",
    "    plt.show()\n",
    "    "
   ]
  },
  {
   "cell_type": "code",
   "execution_count": 10,
   "id": "c898b77d",
   "metadata": {},
   "outputs": [
    {
     "name": "stdout",
     "output_type": "stream",
     "text": [
      "Gewichtsvektor am Ende des Trainings:\n",
      "[-1.  1.  1.]\n",
      "Auswertung am Ende des Trainings:\n",
      "[1 0 0]: 0 -> 0\n",
      "[1 0 1]: 1 -> 1\n",
      "[1 1 0]: 1 -> 1\n",
      "[1 1 1]: 1 -> 1\n"
     ]
    },
    {
     "data": {
      "image/png": "[encoded data removed]",
      "text/plain": [
       "<Figure size 720x720 with 1 Axes>"
      ]
     },
     "metadata": {
      "needs_background": "light"
     },
     "output_type": "display_data"
    }
   ],
   "source": [
    "# Hauptprogramm\n",
    "main()"
   ]
  },
  {
   "cell_type": "code",
   "execution_count": 34,
   "id": "8c62da11",
   "metadata": {},
   "outputs": [],
   "source": [
    "w_u = array([-0.28,0.02,0.05])"
   ]
  },
  {
   "cell_type": "code",
   "execution_count": 35,
   "id": "179f8e6d",
   "metadata": {},
   "outputs": [],
   "source": [
    "knn_u = array([1,0,1])"
   ]
  },
  {
   "cell_type": "code",
   "execution_count": 36,
   "id": "0ef4dc9f",
   "metadata": {},
   "outputs": [],
   "source": [
    "y_uhat = heavside(dot(w_u,knn_u))"
   ]
  },
  {
   "cell_type": "code",
   "execution_count": 37,
   "id": "463c1269",
   "metadata": {},
   "outputs": [],
   "source": [
    "error_u = 1 - y_uhat"
   ]
  },
  {
   "cell_type": "code",
   "execution_count": 41,
   "id": "f6a57ae3",
   "metadata": {},
   "outputs": [],
   "source": [
    "w_u += error_u * knn_u"
   ]
  },
  {
   "cell_type": "code",
   "execution_count": 42,
   "id": "3174488a",
   "metadata": {},
   "outputs": [
    {
     "data": {
      "text/plain": [
       "array([0.72, 0.02, 1.05])"
      ]
     },
     "execution_count": 42,
     "metadata": {},
     "output_type": "execute_result"
    }
   ],
   "source": [
    "w_u"
   ]
  },
  {
   "cell_type": "code",
   "execution_count": null,
   "id": "a045d59f",
   "metadata": {},
   "outputs": [],
   "source": []
  }
 ],
 "metadata": {
  "kernelspec": {
   "display_name": "Python 3",
   "language": "python",
   "name": "python3"
  },
  "language_info": {
   "codemirror_mode": {
    "name": "ipython",
    "version": 3
   },
   "file_extension": ".py",
   "mimetype": "text/x-python",
   "name": "python",
   "nbconvert_exporter": "python",
   "pygments_lexer": "ipython3",
   "version": "3.8.8"
  }
 },
 "nbformat": 4,
 "nbformat_minor": 5
}
